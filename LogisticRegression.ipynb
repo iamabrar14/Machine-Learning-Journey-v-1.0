{
 "cells": [
  {
   "cell_type": "code",
   "execution_count": null,
   "metadata": {},
   "outputs": [],
   "source": [
    "\"\"\" Logistic regression is a classification ML model that is used to predict a binary output (0 or 1).\n",
    "    It uses the logistic function to model the probability of a certain class or event.\n",
    "    Ex: Pass vs Fail, Spam vs Not spam, etc.\n",
    "\"\"\""
   ]
  },
  {
   "cell_type": "code",
   "execution_count": 2,
   "metadata": {},
   "outputs": [
    {
     "name": "stdout",
     "output_type": "stream",
     "text": [
      "You have studied 7.0 my prediction is that you are likely to pass,Congratulations!\n"
     ]
    }
   ],
   "source": [
    "from sklearn.linear_model import LogisticRegression\n",
    "X=[[1],[2],[3],[4],[5]] #Hour studied\n",
    "y=[0,0,1,1,1] #0=Fail, 1=Pass\n",
    "\n",
    "model=LogisticRegression()\n",
    "\n",
    "model.fit(X,y)\n",
    "hours=float(input(\"How many hours you have studied: \"))\n",
    "result=model.predict([[hours]])[0]\n",
    "\"\"\"We use [0] after predict() because the method returns a list or array of predictions, and [0] \n",
    "extracts the first (or only) predicted value from that sequence.\"\"\"\n",
    "if result ==1:\n",
    "    print(f\"You have studied {hours} my prediction is that you are likely to pass,Congratulations!\")\n",
    "else:\n",
    "     print(f\"You have studied {hours} my prediction is that you are likely to fail,Try Again!\")\n",
    "    "
   ]
  }
 ],
 "metadata": {
  "kernelspec": {
   "display_name": "Python 3",
   "language": "python",
   "name": "python3"
  },
  "language_info": {
   "codemirror_mode": {
    "name": "ipython",
    "version": 3
   },
   "file_extension": ".py",
   "mimetype": "text/x-python",
   "name": "python",
   "nbconvert_exporter": "python",
   "pygments_lexer": "ipython3",
   "version": "3.8.2"
  }
 },
 "nbformat": 4,
 "nbformat_minor": 2
}
