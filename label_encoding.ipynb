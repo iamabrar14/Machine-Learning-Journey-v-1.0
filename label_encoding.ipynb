{
 "cells": [
  {
   "cell_type": "code",
   "execution_count": 5,
   "metadata": {},
   "outputs": [
    {
     "name": "stdout",
     "output_type": "stream",
     "text": [
      "\n",
      " Label Encoded DataFrame\n",
      "     Name  Gender  Gender_Encoded Passed  Passed_Encoded\n",
      "0    Aman    Male               1    Yes               1\n",
      "1   Priya  Female               0    Yes               1\n",
      "2   Rahul    Male               1     No               0\n",
      "3  Anjali  Female               0    Yes               1\n",
      "4    Ravi    Male               1    Yes               1\n"
     ]
    }
   ],
   "source": [
    "from sklearn.preprocessing import LabelEncoder \n",
    "import pandas as pd\n",
    "\n",
    "\n",
    "df=pd.read_csv('sample_data.csv')\n",
    "\n",
    "df_label=df.copy()\n",
    "\n",
    "le=LabelEncoder()\n",
    "\n",
    "df_label['Gender_Encoded']=le.fit_transform(df_label['Gender'])\n",
    "df_label['Passed_Encoded']=le.fit_transform(df_label['Passed'])\n",
    "\n",
    "print('\\n Label Encoded DataFrame')\n",
    "print(df_label[['Name','Gender','Gender_Encoded','Passed','Passed_Encoded']].head())\n",
    "\n",
    "\n"
   ]
  },
  {
   "cell_type": "code",
   "execution_count": 6,
   "metadata": {},
   "outputs": [
    {
     "name": "stdout",
     "output_type": "stream",
     "text": [
      "\n",
      " One-Hot encoded(City)\n",
      "      Name  Gender Passed  Gender_Encoded  Passed_Encoded  City_Bangalore  \\\n",
      "0     Aman    Male    Yes               1               1           False   \n",
      "1    Priya  Female    Yes               0               1           False   \n",
      "2    Rahul    Male     No               1               0            True   \n",
      "3   Anjali  Female    Yes               0               1           False   \n",
      "4     Ravi    Male    Yes               1               1           False   \n",
      "5    Meera  Female     No               0               0           False   \n",
      "6    Arjun    Male    Yes               1               1            True   \n",
      "7     Neha  Female    Yes               0               1           False   \n",
      "8    Imran    Male     No               1               0           False   \n",
      "9    Sneha  Female    Yes               0               1           False   \n",
      "10     Raj    Male    Yes               1               1           False   \n",
      "11   Divya  Female     No               0               0           False   \n",
      "12   Kabir    Male    Yes               1               1           False   \n",
      "13  Simran  Female    Yes               0               1            True   \n",
      "14   Karan    Male     No               1               0           False   \n",
      "15   Pooja  Female    Yes               0               1           False   \n",
      "16  Rakesh    Male    Yes               1               1           False   \n",
      "17    Isha  Female     No               0               0           False   \n",
      "18   Rohit    Male    Yes               1               1           False   \n",
      "19   Deepa  Female    Yes               0               1            True   \n",
      "\n",
      "    City_Chennai  City_Delhi  City_Mumbai  \n",
      "0          False        True        False  \n",
      "1          False       False         True  \n",
      "2          False       False        False  \n",
      "3          False       False         True  \n",
      "4          False        True        False  \n",
      "5           True       False        False  \n",
      "6          False       False        False  \n",
      "7          False        True        False  \n",
      "8           True       False        False  \n",
      "9          False       False         True  \n",
      "10          True       False        False  \n",
      "11         False        True        False  \n",
      "12         False       False         True  \n",
      "13         False       False        False  \n",
      "14         False        True        False  \n",
      "15         False       False         True  \n",
      "16          True       False        False  \n",
      "17         False        True        False  \n",
      "18         False        True        False  \n",
      "19         False       False        False  \n"
     ]
    }
   ],
   "source": [
    "#One-Hot encoding\n",
    "\"\"\" This feature turns a categorical feature into a set of binary indicator feature.\n",
    "Original feature with N categories will be replaced by N new features.\n",
    "\"\"\"\n",
    "df_encoded=pd.get_dummies(df_label,columns=['City'])\n",
    "print('\\n One-Hot encoded(City)')\n",
    "print(df_encoded)"
   ]
  },
  {
   "cell_type": "code",
   "execution_count": 9,
   "metadata": {},
   "outputs": [
    {
     "name": "stdout",
     "output_type": "stream",
     "text": [
      "     Name  Gender Passed  Gender_Encoded  Passed_Encoded  City_Bangalore  \\\n",
      "0    Aman    Male    Yes               1               1               0   \n",
      "1   Priya  Female    Yes               0               1               0   \n",
      "2   Rahul    Male     No               1               0               1   \n",
      "3  Anjali  Female    Yes               0               1               0   \n",
      "4    Ravi    Male    Yes               1               1               0   \n",
      "\n",
      "   City_Chennai  City_Delhi  City_Mumbai  \n",
      "0             0           1            0  \n",
      "1             0           0            1  \n",
      "2             0           0            0  \n",
      "3             0           0            1  \n",
      "4             0           1            0  \n"
     ]
    }
   ],
   "source": [
    "\"\"\"\n",
    "Previous Program gave us boolean values like True or false. But we need to convert them into 0 and 1. \n",
    "\n",
    "\"\"\"\n",
    "\n",
    "df_encoded = pd.get_dummies(df_label, columns=['City'])\n",
    "bool_cols = df_encoded.select_dtypes(include='bool').columns\n",
    "df_encoded[bool_cols] = df_encoded[bool_cols].astype('uint8')\n",
    "print(df_encoded.head())"
   ]
  }
 ],
 "metadata": {
  "kernelspec": {
   "display_name": "Python 3",
   "language": "python",
   "name": "python3"
  },
  "language_info": {
   "codemirror_mode": {
    "name": "ipython",
    "version": 3
   },
   "file_extension": ".py",
   "mimetype": "text/x-python",
   "name": "python",
   "nbconvert_exporter": "python",
   "pygments_lexer": "ipython3",
   "version": "3.8.2"
  }
 },
 "nbformat": 4,
 "nbformat_minor": 2
}
