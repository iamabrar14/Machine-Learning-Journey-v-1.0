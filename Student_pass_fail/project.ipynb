{
 "cells": [
  {
   "cell_type": "code",
   "execution_count": 4,
   "metadata": {},
   "outputs": [
    {
     "name": "stdout",
     "output_type": "stream",
     "text": [
      "Maximum and minimum hours studied range :  100 - 0\n",
      "Maximum and minimum attendance percentage range :  99 - 30\n",
      "Maximum and minimum assignments completed range :  19 - 0\n",
      "Mean Absolute Error :  0.19\n",
      "Mean Squared Error :  0.19\n",
      "Root Mean Squared Error :  0.43\n",
      "R^2 Score (Model Accuracy) :  0.1559\n",
      "Based on informations you have provided, you are likely to pass\n"
     ]
    }
   ],
   "source": [
    "import pandas as pd\n",
    "import numpy as np \n",
    "from sklearn.neighbors import KNeighborsClassifier\n",
    "from sklearn.metrics import mean_absolute_error,mean_squared_error,r2_score\n",
    "\n",
    "df=pd.read_csv('student_pass.csv')\n",
    "\n",
    "X = df[['hours_studied', 'attendance', 'assignments_completed']]\n",
    "y = df['pass'] # 1 for pass, 0 for fail\n",
    "\n",
    "model=KNeighborsClassifier(n_neighbors=3)\n",
    "model.fit(X,y)\n",
    "predicted_result=model.predict(X)\n",
    "\n",
    "#Evaluate\n",
    "mae=mean_absolute_error(y,predicted_result)\n",
    "mse=mean_squared_error(y,predicted_result)\n",
    "rmse=np.sqrt(mse)\n",
    "r2=r2_score(y,predicted_result)\n",
    "\n",
    "#Range of our inputs\n",
    "max_hours_studied = df['hours_studied'].max()\n",
    "min_hours_studied= df['hours_studied'].min()\n",
    "max_attendance = df['attendance'].max()\n",
    "min_attendance= df['attendance'].min()\n",
    "max_assignments_completed = df['assignments_completed'].max()\n",
    "min_assignments_completed= df['assignments_completed'].min()\n",
    "\n",
    "print(\"Maximum and minimum hours studied range : \",max_hours_studied,\"-\",min_hours_studied)\n",
    "print(\"Maximum and minimum attendance percentage range : \",max_attendance,\"-\",min_attendance)\n",
    "print(\"Maximum and minimum assignments completed range : \",max_assignments_completed,\"-\",min_assignments_completed)\n",
    "\n",
    "\n",
    "#printing evaluation\n",
    "print(\"Mean Absolute Error : \",round(mae,2))\n",
    "print(\"Mean Squared Error : \",round(mse,2))\n",
    "print(\"Root Mean Squared Error : \",round(rmse,2))\n",
    "print(\"R^2 Score (Model Accuracy) : \",round(r2,4))\n",
    "\n",
    "#Taking input from user\n",
    "hours_studied = float(input(\"Enter hours studied(Weekly): \")) \n",
    "attendance = float(input(\"Enter attendance percentage(%): \"))\n",
    "assignments_completed = int(input(\"Enter number of assignments completed: \")) \n",
    "new_student_data = pd.DataFrame({\n",
    "    'hours_studied': [hours_studied],\n",
    "    'attendance': [attendance],\n",
    "    'assignments_completed': [assignments_completed]\n",
    "})\n",
    "\n",
    "# Predict the result for the new student\n",
    "prediction = model.predict(new_student_data)\n",
    "\n",
    "if prediction ==1:\n",
    "    print(\"Based on informations you have provided, you are likely to pass\")\n",
    "else:\n",
    "    print(\"Based on informations you provided, you may fail. Try more hard\")\n",
    "\n"
   ]
  }
 ],
 "metadata": {
  "kernelspec": {
   "display_name": "Python 3",
   "language": "python",
   "name": "python3"
  },
  "language_info": {
   "codemirror_mode": {
    "name": "ipython",
    "version": 3
   },
   "file_extension": ".py",
   "mimetype": "text/x-python",
   "name": "python",
   "nbconvert_exporter": "python",
   "pygments_lexer": "ipython3",
   "version": "3.8.2"
  }
 },
 "nbformat": 4,
 "nbformat_minor": 2
}
