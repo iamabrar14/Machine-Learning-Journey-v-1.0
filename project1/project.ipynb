{
 "cells": [
  {
   "cell_type": "code",
   "execution_count": 2,
   "metadata": {},
   "outputs": [
    {
     "name": "stdout",
     "output_type": "stream",
     "text": [
      "Mean Absolute Error :  1.0621118012422361\n",
      "Mean Squared Error :  2.40993788819875\n",
      "Root Mean Squared Error :  1.5523974646329302\n",
      "Predicted marks based on your study hour 8.0 is :  86.34161490683229\n"
     ]
    },
    {
     "name": "stderr",
     "output_type": "stream",
     "text": [
      "c:\\Program Files\\Python38\\lib\\site-packages\\sklearn\\base.py:465: UserWarning: X does not have valid feature names, but LinearRegression was fitted with feature names\n",
      "  warnings.warn(\n"
     ]
    }
   ],
   "source": [
    "import pandas as pd \n",
    "from sklearn.linear_model import LinearRegression\n",
    "from sklearn.metrics import mean_absolute_error,mean_squared_error\n",
    "import numpy as np \n",
    "\n",
    "data=pd.read_csv('dataset1.csv')\n",
    "\n",
    "X=data[['Hours']] #2d array, independent variable\n",
    "y=data['Score'] #1d array, dependent variable, target column\n",
    "\n",
    "model=LinearRegression()\n",
    "model.fit(X,y) #train the model\n",
    "predicted_score=model.predict(X)\n",
    "\n",
    "#Evaluate\n",
    "mae=mean_absolute_error(y,predicted_score)\n",
    "mse=mean_squared_error(y,predicted_score)\n",
    "rmse=np.sqrt(mse) \n",
    "\n",
    "#Showing Result\n",
    "print(\"Mean Absolute Error : \",mae)\n",
    "print(\"Mean Squared Error : \",mse)\n",
    "print(\"Root Mean Squared Error : \",rmse)\n",
    "\n",
    "new_hour=float(input(\"Enter your study hour : \"))\n",
    "new_pred=model.predict([[new_hour]])\n",
    "print(f\"Predicted marks based on your study hour {new_hour} is : \",new_pred[0])"
   ]
  }
 ],
 "metadata": {
  "kernelspec": {
   "display_name": "Python 3",
   "language": "python",
   "name": "python3"
  },
  "language_info": {
   "codemirror_mode": {
    "name": "ipython",
    "version": 3
   },
   "file_extension": ".py",
   "mimetype": "text/x-python",
   "name": "python",
   "nbconvert_exporter": "python",
   "pygments_lexer": "ipython3",
   "version": "3.8.2"
  }
 },
 "nbformat": 4,
 "nbformat_minor": 2
}
