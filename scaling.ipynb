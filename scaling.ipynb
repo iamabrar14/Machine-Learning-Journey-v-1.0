{
 "cells": [
  {
   "cell_type": "code",
   "execution_count": null,
   "metadata": {},
   "outputs": [],
   "source": [
    "\"\"\" It is the process of transforming numerical features so they share a similar range or distribution.\n",
    "This can improve the performance of machine learning algorithms that are sensitive to the scale of input data, such as gradient descent-based methods and distance-based algorithms.\n",
    "\"\"\""
   ]
  },
  {
   "cell_type": "code",
   "execution_count": null,
   "metadata": {},
   "outputs": [],
   "source": [
    "from sklearn.preprocessing import StandardScaler, MinMaxScaler\n",
    "scaler=StandardScaler()\n",
    "\n",
    "x_scaled=scaler.fit_transform() #Standardizing to have mean=0 and variance=1\n",
    "\n",
    "scaler=MinMaxScaler() #Scaling to a specific range, usually [0, 1]\n",
    "x_scaled=scaler.fit_transform()"
   ]
  },
  {
   "cell_type": "code",
   "execution_count": 2,
   "metadata": {},
   "outputs": [
    {
     "name": "stdout",
     "output_type": "stream",
     "text": [
      "Standard Scaler Output:\n",
      "   StudyHours  TestScore\n",
      "0   -1.414214  -1.414214\n",
      "1   -0.707107  -0.707107\n",
      "2    0.000000   0.000000\n",
      "3    0.707107   0.707107\n",
      "4    1.414214   1.414214\n"
     ]
    }
   ],
   "source": [
    "import pandas as pd\n",
    "from sklearn.preprocessing import StandardScaler, MinMaxScaler\n",
    "from sklearn.model_selection import train_test_split\n",
    "\n",
    "data={\n",
    "    'StudyHours':[1,2,3,4,5],\n",
    "    'TestScore':[40,50,60,70,80]\n",
    "}\n",
    "\n",
    "df=pd.DataFrame(data)\n",
    "\n",
    "#Standard Scaler\n",
    "standard_scaler=StandardScaler()\n",
    "standard_scaled=standard_scaler.fit_transform(df)\n",
    "\n",
    "print(\"Standard Scaler Output:\")\n",
    "print(pd.DataFrame(standard_scaled,columns=['StudyHours','TestScore']))"
   ]
  },
  {
   "cell_type": "code",
   "execution_count": 3,
   "metadata": {},
   "outputs": [
    {
     "name": "stdout",
     "output_type": "stream",
     "text": [
      "\n",
      "MinMax Scaler Output:\n",
      "   StudyHours  TestScore\n",
      "0        0.00       0.00\n",
      "1        0.25       0.25\n",
      "2        0.50       0.50\n",
      "3        0.75       0.75\n",
      "4        1.00       1.00\n"
     ]
    }
   ],
   "source": [
    "#Now using MinMax Scaler\n",
    "minmax_scaler=MinMaxScaler()\n",
    "minmax_scaled=minmax_scaler.fit_transform(df)\n",
    "\n",
    "print(\"\\nMinMax Scaler Output:\")\n",
    "print(pd.DataFrame(minmax_scaled,columns=['StudyHours','TestScore']))"
   ]
  },
  {
   "cell_type": "code",
   "execution_count": 5,
   "metadata": {},
   "outputs": [
    {
     "name": "stdout",
     "output_type": "stream",
     "text": [
      "Training Data:\n",
      "   StudyHours\n",
      "4           5\n",
      "2           3\n",
      "0           1\n",
      "3           4\n",
      "Testing Data:\n",
      "   StudyHours\n",
      "1           2\n",
      "Training Data:\n",
      "   TestScore\n",
      "4         80\n",
      "2         60\n",
      "0         40\n",
      "3         70\n",
      "Testing Data:\n",
      "   TestScore\n",
      "1         50\n"
     ]
    }
   ],
   "source": [
    "#train_test_split\n",
    "#One part for training the ML Model\n",
    "#One part for testing the ML Model\n",
    "#Thats why we use train_test_split\n",
    "\n",
    "X=df[['StudyHours']]\n",
    "y=df[['TestScore']]\n",
    "\n",
    "X_train,X_test,y_train,y_test=train_test_split(X,y,test_size=0.2,random_state=42)\n",
    "\n",
    "print(\"Training Data:\")\n",
    "print(X_train)\n",
    "\n",
    "print(\"Testing Data:\")\n",
    "print(X_test)\n",
    "\n",
    "print(\"Training Data:\")\n",
    "print(y_train)\n",
    "\n",
    "print(\"Testing Data:\")\n",
    "print(y_test)\n",
    "\n",
    "\n"
   ]
  }
 ],
 "metadata": {
  "kernelspec": {
   "display_name": "Python 3",
   "language": "python",
   "name": "python3"
  },
  "language_info": {
   "codemirror_mode": {
    "name": "ipython",
    "version": 3
   },
   "file_extension": ".py",
   "mimetype": "text/x-python",
   "name": "python",
   "nbconvert_exporter": "python",
   "pygments_lexer": "ipython3",
   "version": "3.8.2"
  }
 },
 "nbformat": 4,
 "nbformat_minor": 2
}
