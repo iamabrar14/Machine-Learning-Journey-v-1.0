{
 "cells": [
  {
   "cell_type": "code",
   "execution_count": null,
   "metadata": {},
   "outputs": [],
   "source": [
    "\"\"\" \n",
    "KNN (K-nearest neighbor)is a simple,instance based Supervised ML algorithm that\n",
    "can be mostly used for classification tasks.\n",
    "4 steps of KNN algorithm:\n",
    "1) Chose K: Select the number of neighbors K.(Always chose odd numbers like 3,5,7)\n",
    "2) Calculate Distance: Calculate the distance between the new data point and all the training data points.\n",
    "3) Find Nearest Neighbors: Identify the K-nearest neighbors based on the calculated distances.\n",
    "4) Make Prediction: For classification, take a majority vote among the K-nearest neighbors; \n",
    "for regression, take the average of their values.\n",
    "KNN is not ideal for big dataset.\n",
    "\n",
    "\"\"\""
   ]
  },
  {
   "cell_type": "code",
   "execution_count": 3,
   "metadata": {},
   "outputs": [
    {
     "name": "stdout",
     "output_type": "stream",
     "text": [
      "Your fruit can be an apple\n"
     ]
    }
   ],
   "source": [
    "from sklearn.neighbors import KNeighborsClassifier\n",
    "\n",
    "X=[\n",
    "    [180,7],\n",
    "    [200,7.5],\n",
    "    [250,8],\n",
    "    [300,8.5],\n",
    "    [330,9],\n",
    "    [360,9.5]\n",
    "]\n",
    "#0= Apple, 1= Orange\n",
    "y=[0,0,0,1,1,1]\n",
    "\n",
    "model=KNeighborsClassifier(n_neighbors=3) #K=3\n",
    "\n",
    "model.fit(X,y)\n",
    "\n",
    "weight=float(input(\"Enter weight of the fruit(in gm): \"))\n",
    "size=float(input(\"Enter size of the fruit(in cm) : \"))\n",
    "prediction=model.predict([[weight,size]])[0]\n",
    "\n",
    "if prediction ==0:\n",
    "    print(\"Your fruit can be an apple\")\n",
    "else:\n",
    "    print(\"Your fruit can be an orange\")"
   ]
  }
 ],
 "metadata": {
  "kernelspec": {
   "display_name": "Python 3",
   "language": "python",
   "name": "python3"
  },
  "language_info": {
   "codemirror_mode": {
    "name": "ipython",
    "version": 3
   },
   "file_extension": ".py",
   "mimetype": "text/x-python",
   "name": "python",
   "nbconvert_exporter": "python",
   "pygments_lexer": "ipython3",
   "version": "3.8.2"
  }
 },
 "nbformat": 4,
 "nbformat_minor": 2
}
