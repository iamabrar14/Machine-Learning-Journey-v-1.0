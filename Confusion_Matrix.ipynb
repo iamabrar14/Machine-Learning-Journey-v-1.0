{
 "cells": [
  {
   "cell_type": "code",
   "execution_count": null,
   "metadata": {},
   "outputs": [],
   "source": [
    "\"\"\" A confusion matrix is table in ML used for performance evaluation of a classification model.\n",
    "It shows how many predictions were correct and incorrent and breaks them down by each class.\n",
    "Example: Actual/Predicted  |  Spam | Not Spam\n",
    "            Spam          |   50  |    10\n",
    "            Not Spam      |   5   |    100\n",
    "\n",
    "\"\"\""
   ]
  },
  {
   "cell_type": "code",
   "execution_count": 1,
   "metadata": {},
   "outputs": [
    {
     "name": "stdout",
     "output_type": "stream",
     "text": [
      "Confusion Matrix :\n",
      "[[4 1]\n",
      " [1 4]]\n"
     ]
    }
   ],
   "source": [
    "from sklearn.metrics import confusion_matrix\n",
    "\n",
    "y_true= [1,0,1,1,0,1,0,0,1,0] # Actual labels\n",
    "y_pred=[1,0,1,0,0,1,1,0,1,0] # Predicted labels by the model\n",
    "\n",
    "con=confusion_matrix(y_true,y_pred)\n",
    "\n",
    "print(\"Confusion Matrix :\")\n",
    "print(con)\n"
   ]
  }
 ],
 "metadata": {
  "kernelspec": {
   "display_name": "Python 3",
   "language": "python",
   "name": "python3"
  },
  "language_info": {
   "codemirror_mode": {
    "name": "ipython",
    "version": 3
   },
   "file_extension": ".py",
   "mimetype": "text/x-python",
   "name": "python",
   "nbconvert_exporter": "python",
   "pygments_lexer": "ipython3",
   "version": "3.8.2"
  }
 },
 "nbformat": 4,
 "nbformat_minor": 2
}
