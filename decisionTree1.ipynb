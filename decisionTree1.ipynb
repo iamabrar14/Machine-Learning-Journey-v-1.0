{
 "cells": [
  {
   "cell_type": "code",
   "execution_count": null,
   "metadata": {},
   "outputs": [],
   "source": [
    "\"\"\"\"Decision tree is a supervised ML model which will predict by asking a series of yes/no questions.  \n",
    "It can be used for both classification and regression tasks.\n",
    "\n",
    "\"\"\""
   ]
  },
  {
   "cell_type": "code",
   "execution_count": 2,
   "metadata": {},
   "outputs": [
    {
     "name": "stdout",
     "output_type": "stream",
     "text": [
      "It's an Apple\n"
     ]
    }
   ],
   "source": [
    "from sklearn.tree import DecisionTreeClassifier\n",
    "\n",
    "X=[\n",
    "    [7,2], #Apple\n",
    "    [8,3], #Apple\n",
    "    [9,8], #Orange \n",
    "    [10,9] #Orange\n",
    "]\n",
    "y=[0,0,1,1] #0:Apple, 1:Orange\n",
    "\n",
    "model=DecisionTreeClassifier()\n",
    "model.fit(X,y)\n",
    "size=float(input(\"Enter the fruit size in cm : \"))\n",
    "shade=float(input(\"Chose colour shade (1-10) : \"))\n",
    "\n",
    "result=model.predict([[size,shade]])[0]\n",
    "\n",
    "if result ==0:\n",
    "    print(\"It's an Apple\")\n",
    "else:\n",
    "    print(\"It's an Orange\")\n"
   ]
  }
 ],
 "metadata": {
  "kernelspec": {
   "display_name": "Python 3",
   "language": "python",
   "name": "python3"
  },
  "language_info": {
   "codemirror_mode": {
    "name": "ipython",
    "version": 3
   },
   "file_extension": ".py",
   "mimetype": "text/x-python",
   "name": "python",
   "nbconvert_exporter": "python",
   "pygments_lexer": "ipython3",
   "version": "3.8.2"
  }
 },
 "nbformat": 4,
 "nbformat_minor": 2
}
