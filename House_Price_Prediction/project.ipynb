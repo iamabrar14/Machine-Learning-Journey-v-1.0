{
 "cells": [
  {
   "cell_type": "code",
   "execution_count": 4,
   "metadata": {},
   "outputs": [
    {
     "name": "stdout",
     "output_type": "stream",
     "text": [
      "Mean Absolute Error :  17773.41\n",
      "Mean Squared Error :  563804594.34\n",
      "Root Mean Squared Error :  23744.57\n",
      "R^2 Score (Model Accuracy) :  0.9036\n",
      "Based on your requirements, price of your house can be :  235308.62639295854\n"
     ]
    }
   ],
   "source": [
    "import pandas as pd\n",
    "import numpy as np \n",
    "from sklearn.linear_model import LinearRegression\n",
    "from sklearn.metrics import mean_absolute_error,mean_squared_error,r2_score\n",
    "\n",
    "df=pd.read_csv('house_prices.csv') #Loading the dataset\n",
    "\n",
    "X = df[['rooms', 'area', 'age']] #features\n",
    "y=df['price'] #Target Variable\n",
    "\n",
    "model=LinearRegression()\n",
    "model.fit(X,y)\n",
    "predicted_Price=model.predict(X)\n",
    "\n",
    "#Evaluate Matrices \n",
    "\n",
    "mae=mean_absolute_error(y,predicted_Price)\n",
    "mse=mean_squared_error(y,predicted_Price)\n",
    "rmse=np.sqrt(mse)\n",
    "r2=r2_score(y,predicted_Price)\n",
    "#Showing Result\n",
    "print(\"Mean Absolute Error : \",round(mae,2))\n",
    "print(\"Mean Squared Error : \",round(mse,2))\n",
    "print(\"Root Mean Squared Error : \",round(rmse,2))\n",
    "print(\"R^2 Score (Model Accuracy) : \",round(r2,4)) #Closer to 1=Better\n",
    "\n",
    "#Taking some inputs from user to predict\n",
    "rooms=int(input(\"Enter number of rooms : \"))\n",
    "area=float(input(\"Enter area in sq.ft : \"))\n",
    "age=int(input(\"Enter age of the house : \"))\n",
    "\n",
    "# Create a DataFrame with the user's input and column names\n",
    "new_data = pd.DataFrame([[rooms, area, age]], columns=['rooms', 'area', 'age'])\n",
    "\n",
    "# Predict using the new DataFrame\n",
    "new_price=model.predict(new_data)\n",
    "\n",
    "print(\"Based on your requirements, price of your house can be(in dollar) : \",new_price[0])\n",
    "\n"
   ]
  }
 ],
 "metadata": {
  "kernelspec": {
   "display_name": "Python 3",
   "language": "python",
   "name": "python3"
  },
  "language_info": {
   "codemirror_mode": {
    "name": "ipython",
    "version": 3
   },
   "file_extension": ".py",
   "mimetype": "text/x-python",
   "name": "python",
   "nbconvert_exporter": "python",
   "pygments_lexer": "ipython3",
   "version": "3.8.2"
  }
 },
 "nbformat": 4,
 "nbformat_minor": 2
}
