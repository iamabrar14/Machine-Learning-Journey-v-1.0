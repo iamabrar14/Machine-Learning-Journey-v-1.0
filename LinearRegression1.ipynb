{
 "cells": [
  {
   "cell_type": "code",
   "execution_count": null,
   "metadata": {},
   "outputs": [],
   "source": [
    "\"\"\" Linear Regression is a Supervised Machine Learning model which is used for predicting numbers\n",
    "using a straight line relationship between input X and output y.\n",
    "ex: Marks,Price,Salary etc.\"\"\"\n",
    "\"\"\" Basic Syntax\n",
    "from sklearn.linear_model import LinearRegression \n",
    "model=LinearRegression()\n",
    "\n",
    "model.fit(X,y)\n",
    "model.predict([[]]) We use double square bracket cause in ML tables row+columns=2d array.\n",
    "\"\"\""
   ]
  },
  {
   "cell_type": "code",
   "execution_count": 1,
   "metadata": {},
   "outputs": [
    {
     "name": "stdout",
     "output_type": "stream",
     "text": [
      "You studied 7.0 hours, so predicted mark is [114.]\n"
     ]
    }
   ],
   "source": [
    "from sklearn.linear_model import LinearRegression \n",
    "X=[[1],[2],[3],[4],[5]]\n",
    "y=[40,50,65,75,90] # y can be in 1d array, that means output in 1d array\n",
    "model=LinearRegression()\n",
    "model.fit(X,y)\n",
    "\n",
    "hours=float(input(\"Enter how many hours you have studied : \"))\n",
    "predicted_marks=model.predict([[hours]])\n",
    "\n",
    "print(f\"You studied {hours} hours, so predicted mark is {predicted_marks}\")\n",
    "\n"
   ]
  },
  {
   "cell_type": "code",
   "execution_count": 1,
   "metadata": {},
   "outputs": [
    {
     "name": "stdout",
     "output_type": "stream",
     "text": [
      "You studied 7.0 hours, so predicted mark is [100.]\n"
     ]
    }
   ],
   "source": [
    "from sklearn.linear_model import LinearRegression \n",
    "import numpy as np\n",
    "X=[[1],[2],[3],[4],[5]]\n",
    "y=[40,50,65,75,90] # y can be in 1d array, that means output in 1d array\n",
    "model=LinearRegression()\n",
    "model.fit(X,y)\n",
    "\n",
    "hours=float(input(\"Enter how many hours you have studied : \"))\n",
    "predicted_marks=model.predict([[hours]]) \n",
    "predicted_marks=np.clip(predicted_marks,0,100) #using numpy's clip to limit the mark between 0-100\n",
    "\n",
    "print(f\"You studied {hours} hours, so predicted mark is {predicted_marks}\")\n",
    "\n"
   ]
  }
 ],
 "metadata": {
  "kernelspec": {
   "display_name": "Python 3",
   "language": "python",
   "name": "python3"
  },
  "language_info": {
   "codemirror_mode": {
    "name": "ipython",
    "version": 3
   },
   "file_extension": ".py",
   "mimetype": "text/x-python",
   "name": "python",
   "nbconvert_exporter": "python",
   "pygments_lexer": "ipython3",
   "version": "3.8.2"
  }
 },
 "nbformat": 4,
 "nbformat_minor": 2
}
