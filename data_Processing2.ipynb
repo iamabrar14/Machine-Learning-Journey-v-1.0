{
 "cells": [
  {
   "cell_type": "code",
   "execution_count": 1,
   "metadata": {},
   "outputs": [],
   "source": [
    "import pandas as pd\n",
    "\n",
    "df=pd.read_csv('sample_dataset.csv')"
   ]
  },
  {
   "cell_type": "code",
   "execution_count": 3,
   "metadata": {},
   "outputs": [
    {
     "name": "stdout",
     "output_type": "stream",
     "text": [
      "First 5 rows of the dataset:\n",
      "   id      name  age  gender  height  weight  income  target\n",
      "0   1  Person_1   56    Male   161.8    79.7   61574       1\n",
      "1   2  Person_2   46    Male   165.5    83.5   51417       1\n",
      "2   3  Person_3   32  Female   150.3    71.4   85006       1\n",
      "3   4  Person_4   25  Female   164.1    59.9   59454       0\n",
      "4   5  Person_5   38    Male   176.8    41.1   21587       0\n",
      "Last 5 rows of the dataset:\n",
      "       id         name  age  gender  height  weight  income  target\n",
      "995   996   Person_996   41  Female   168.4    70.7   43474       0\n",
      "996   997   Person_997   32    Male   160.3    70.9   41045       0\n",
      "997   998   Person_998   46  Female   171.3    88.9   24922       1\n",
      "998   999   Person_999   25    Male   153.3    58.1   42706       1\n",
      "999  1000  Person_1000   22  Female   164.3    42.1   62771       1\n"
     ]
    }
   ],
   "source": [
    "print(\"First 5 rows of the dataset:\")\n",
    "print(df.head())\n",
    "print(\"Last 5 rows of the dataset:\")\n",
    "print(df.tail())"
   ]
  },
  {
   "cell_type": "code",
   "execution_count": null,
   "metadata": {},
   "outputs": [
    {
     "name": "stdout",
     "output_type": "stream",
     "text": [
      "\n",
      "Summary of the dataset:\n",
      "<class 'pandas.core.frame.DataFrame'>\n",
      "RangeIndex: 1000 entries, 0 to 999\n",
      "Data columns (total 8 columns):\n",
      " #   Column  Non-Null Count  Dtype  \n",
      "---  ------  --------------  -----  \n",
      " 0   id      1000 non-null   int64  \n",
      " 1   name    1000 non-null   object \n",
      " 2   age     1000 non-null   int64  \n",
      " 3   gender  1000 non-null   object \n",
      " 4   height  1000 non-null   float64\n",
      " 5   weight  1000 non-null   float64\n",
      " 6   income  1000 non-null   int64  \n",
      " 7   target  1000 non-null   int64  \n",
      "dtypes: float64(2), int64(4), object(2)\n",
      "memory usage: 62.6+ KB\n",
      "None\n",
      "\n",
      "Statistical summary of the dataset:\n",
      "                id          age       height       weight        income  \\\n",
      "count  1000.000000  1000.000000  1000.000000  1000.000000   1000.000000   \n",
      "mean    500.500000    38.745000   165.211300    66.109700  58709.922000   \n",
      "std     288.819436    12.186734    10.501873    15.215073  23451.366472   \n",
      "min       1.000000    18.000000   131.100000    21.100000  20066.000000   \n",
      "25%     250.750000    28.000000   158.175000    56.275000  38248.500000   \n",
      "50%     500.500000    40.000000   165.200000    66.700000  59333.500000   \n",
      "75%     750.250000    50.000000   172.700000    75.725000  79142.000000   \n",
      "max    1000.000000    59.000000   197.500000   113.900000  99943.000000   \n",
      "\n",
      "            target  \n",
      "count  1000.000000  \n",
      "mean      0.526000  \n",
      "std       0.499573  \n",
      "min       0.000000  \n",
      "25%       0.000000  \n",
      "50%       1.000000  \n",
      "75%       1.000000  \n",
      "max       1.000000  \n"
     ]
    }
   ],
   "source": [
    "print(\"\\nSummary of the dataset:\")\n",
    "print(df.info())\n",
    "print(\"\\nStatistical summary of the dataset:\")\n",
    "print(df.describe())\n"
   ]
  },
  {
   "cell_type": "code",
   "execution_count": 2,
   "metadata": {},
   "outputs": [
    {
     "name": "stdout",
     "output_type": "stream",
     "text": [
      "0    56\n",
      "1    46\n",
      "2    32\n",
      "3    25\n",
      "4    38\n",
      "Name: age, dtype: int64\n",
      "       name  income\n",
      "0  Person_1   61574\n",
      "1  Person_2   51417\n",
      "2  Person_3   85006\n",
      "3  Person_4   59454\n",
      "4  Person_5   21587\n",
      "   id      name  age  gender  height  weight  income  target\n",
      "0   1  Person_1   56    Male   161.8    79.7   61574       1\n",
      "1   2  Person_2   46    Male   165.5    83.5   51417       1\n",
      "2   3  Person_3   32  Female   150.3    71.4   85006       1\n",
      "3   4  Person_4   25  Female   164.1    59.9   59454       0\n",
      "4   5  Person_5   38    Male   176.8    41.1   21587       0\n",
      "       name  age\n",
      "0  Person_1   56\n",
      "1  Person_2   46\n",
      "2  Person_3   32\n",
      "3  Person_4   25\n",
      "4  Person_5   38\n",
      "5  Person_6   56\n",
      "   id      name  age  gender  height  weight  income  target\n",
      "0   1  Person_1   56    Male   161.8    79.7   61574       1\n",
      "1   2  Person_2   46    Male   165.5    83.5   51417       1\n",
      "2   3  Person_3   32  Female   150.3    71.4   85006       1\n",
      "4   5  Person_5   38    Male   176.8    41.1   21587       0\n",
      "5   6  Person_6   56  Female   158.4    53.6   74710       0\n"
     ]
    }
   ],
   "source": [
    "\n",
    "print(df['age'].head())                  # Single column\n",
    "print(df[['name', 'income']].head())     # Multiple columns\n",
    "print(df.iloc[0:5])                      # First 5 rows by index\n",
    "print(df.loc[0:5, ['name', 'age']])      # First 5 rows, selected columns\n",
    "print(df[df['age'] > 30].head())"
   ]
  },
  {
   "cell_type": "code",
   "execution_count": 3,
   "metadata": {},
   "outputs": [],
   "source": [
    "df_renamed = df.rename(columns={'income': 'annual_income'})\n",
    "df_dropped = df.drop(columns=['weight']) # Drop weight column\n",
    "df_no_dupes = df.drop_duplicates()"
   ]
  }
 ],
 "metadata": {
  "kernelspec": {
   "display_name": "Python 3",
   "language": "python",
   "name": "python3"
  },
  "language_info": {
   "codemirror_mode": {
    "name": "ipython",
    "version": 3
   },
   "file_extension": ".py",
   "mimetype": "text/x-python",
   "name": "python",
   "nbconvert_exporter": "python",
   "pygments_lexer": "ipython3",
   "version": "3.8.2"
  }
 },
 "nbformat": 4,
 "nbformat_minor": 2
}
