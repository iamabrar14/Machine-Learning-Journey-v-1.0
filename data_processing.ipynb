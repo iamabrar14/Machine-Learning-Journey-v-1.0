{
 "cells": [
  {
   "cell_type": "code",
   "execution_count": 6,
   "metadata": {},
   "outputs": [
    {
     "name": "stdout",
     "output_type": "stream",
     "text": [
      "Original dataframe\n",
      "    Name   Age   Salary\n",
      "0  Abrar  25.0  50000.0\n",
      "1   Anik   NaN  60000.0\n",
      "2   Akib  44.0  70000.0\n",
      "3  Tofiq  33.0      NaN\n",
      "4  Samir   NaN      NaN\n",
      "Name      0\n",
      "Age       2\n",
      "Salary    2\n",
      "dtype: int64\n",
      "    Name   Age   Salary\n",
      "0  Abrar  25.0  50000.0\n",
      "2   Akib  44.0  70000.0\n",
      "Filled values with mean of that column\n",
      "    Name   Age   Salary\n",
      "0  Abrar  25.0  50000.0\n",
      "1   Anik  34.0  60000.0\n",
      "2   Akib  44.0  70000.0\n",
      "3  Tofiq  33.0  60000.0\n",
      "4  Samir  34.0  60000.0\n"
     ]
    }
   ],
   "source": [
    "import pandas as pd\n",
    "data={\n",
    "    'Name':['Abrar','Anik','Akib','Tofiq','Samir'],\n",
    "    'Age':[25,None,44,33,None],\n",
    "    'Salary':[50000,60000,70000,None,None]\n",
    "    }\n",
    "df=pd.DataFrame(data)\n",
    "print(\"Original dataframe\")\n",
    "print(df)\n",
    "print(df.isnull().sum())\n",
    "df_drop=df.dropna()\n",
    "print(df_drop) # drop rows with any null values\n",
    "\n",
    "#Now we will fill the null values with mean of that column\n",
    "df['Age'].fillna(df['Age'].mean(),inplace=True)\n",
    "df['Salary'].fillna(df['Salary'].mean(),inplace=True)\n",
    "print(\"Filled values with mean of that column\")\n",
    "print(df)"
   ]
  }
 ],
 "metadata": {
  "kernelspec": {
   "display_name": "Python 3",
   "language": "python",
   "name": "python3"
  },
  "language_info": {
   "codemirror_mode": {
    "name": "ipython",
    "version": 3
   },
   "file_extension": ".py",
   "mimetype": "text/x-python",
   "name": "python",
   "nbconvert_exporter": "python",
   "pygments_lexer": "ipython3",
   "version": "3.13.7"
  }
 },
 "nbformat": 4,
 "nbformat_minor": 2
}
