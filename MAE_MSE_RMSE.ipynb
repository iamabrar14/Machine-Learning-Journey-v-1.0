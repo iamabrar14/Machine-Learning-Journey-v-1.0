{
 "cells": [
  {
   "cell_type": "code",
   "execution_count": null,
   "metadata": {},
   "outputs": [],
   "source": [
    "\"\"\" MAE(Mean Absolute Error): The average of the absolute difference between \n",
    "actual and predicted values.\n",
    "MAE=sum(|actual - predicted|) / n . Answer will be always non-negative.\n",
    "\"\"\"\n",
    "\"\"\"MSE(Mean Squared Error): The average of the squared difference between actual and predicted values.\n",
    "MSE=sum((actual - predicted)^2) / n . Answer will be always non-negative.\n",
    "\"\"\"\n",
    "\"\"\" RMSE(Root Mean Squared Error): The square root of the average of the squared \n",
    "differences between actual and predicted values.\n",
    "\n",
    "RMSE=sqrt(sum((actual - predicted)^2) / n) . Answer will be always non-negative.\n",
    "\n",
    "\"\"\""
   ]
  },
  {
   "cell_type": "code",
   "execution_count": 1,
   "metadata": {},
   "outputs": [
    {
     "name": "stdout",
     "output_type": "stream",
     "text": [
      "Mean Absolute Error: 7.5\n",
      "Mean Squared Error: 62.5\n",
      "Root Mean Squared Error: 7.905694150420948\n"
     ]
    }
   ],
   "source": [
    "from sklearn.metrics import mean_absolute_error, mean_squared_error\n",
    "import numpy as np \n",
    "\n",
    "#real scores\n",
    "real_scores=[90,60,80,100]\n",
    "\n",
    "#model guess\n",
    "\n",
    "predicted_scores=[85,70,70,95]\n",
    "\n",
    "mae=mean_absolute_error(real_scores,predicted_scores)\n",
    "mse=mean_squared_error(real_scores,predicted_scores)\n",
    "rmse=np.sqrt(mse)\n",
    "\n",
    "print(\"Mean Absolute Error:\",mae)\n",
    "print(\"Mean Squared Error:\",mse)\n",
    "print(\"Root Mean Squared Error:\",rmse)"
   ]
  }
 ],
 "metadata": {
  "kernelspec": {
   "display_name": "Python 3",
   "language": "python",
   "name": "python3"
  },
  "language_info": {
   "codemirror_mode": {
    "name": "ipython",
    "version": 3
   },
   "file_extension": ".py",
   "mimetype": "text/x-python",
   "name": "python",
   "nbconvert_exporter": "python",
   "pygments_lexer": "ipython3",
   "version": "3.8.2"
  }
 },
 "nbformat": 4,
 "nbformat_minor": 2
}
