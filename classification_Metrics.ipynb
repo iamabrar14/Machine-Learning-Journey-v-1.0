{
 "cells": [
  {
   "cell_type": "code",
   "execution_count": 5,
   "metadata": {},
   "outputs": [
    {
     "name": "stdout",
     "output_type": "stream",
     "text": [
      "Accuracy :  0.7142857142857143\n",
      "Precision :  0.75\n",
      "Recall :  0.75\n",
      "F1 Score :  0.75\n"
     ]
    }
   ],
   "source": [
    "from sklearn.metrics import accuracy_score,precision_score,recall_score,f1_score\n",
    "\n",
    "#True answers (what actually happened)\n",
    "\n",
    "y_true=[1,0,1,1,0,1,0]\n",
    "\n",
    "#Models Prediction(What it gueessed)\n",
    "\n",
    "y_pred=[1,0,1,0,0,1,1]\n",
    "\n",
    "#evaluation\n",
    "print(\"Accuracy : \",accuracy_score(y_true,y_pred))\n",
    "print(\"Precision : \",precision_score(y_true,y_pred))\n",
    "print(\"Recall : \",recall_score(y_true,y_pred))\n",
    "print(\"F1 Score : \",f1_score(y_true,y_pred))"
   ]
  }
 ],
 "metadata": {
  "kernelspec": {
   "display_name": "Python 3",
   "language": "python",
   "name": "python3"
  },
  "language_info": {
   "codemirror_mode": {
    "name": "ipython",
    "version": 3
   },
   "file_extension": ".py",
   "mimetype": "text/x-python",
   "name": "python",
   "nbconvert_exporter": "python",
   "pygments_lexer": "ipython3",
   "version": "3.8.2"
  }
 },
 "nbformat": 4,
 "nbformat_minor": 2
}
